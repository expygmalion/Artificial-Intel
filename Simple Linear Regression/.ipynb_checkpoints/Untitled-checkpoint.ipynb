{
 "cells": [
  {
   "cell_type": "code",
   "execution_count": null,
   "id": "3a2511ab",
   "metadata": {
    "vscode": {
     "languageId": "plaintext"
    }
   },
   "outputs": [],
   "source": [
    "import numpy as np\n",
    "import pandas as pd\n",
    "import matplotlib.pyplot as plt\n",
    "from sklearn import linear_model\n",
    "from sklearn import metrics\n",
    "\n",
    "\n",
    "#Loading data\n",
    "data = pd.read_csv('/home/expygmalion/Projects/PythonProjects/Ai/Simple Linear Regression/USA_Students.csv')\n",
    "\n",
    "#print(data.describe())\n",
    "X=data['SAT']\n",
    "Y=data['GPA']\n",
    "print(X.shape)\n",
    "#Plotting\n",
    "plt.scatter(X, Y)\n",
    "plt.xlabel('SAT', fontsize = 20)\n",
    "plt.ylabel('GPA', fontsize = 20)\n",
    "plt.show()\n",
    "\n",
    "cls = linear_model.LinearRegression()\n",
    "X=np.expand_dims(X, axis=1) \n",
    "Y=np.expand_dims(Y, axis=1)\n",
    "cls.fit(X,Y) #Fit method is used for fitting your training data into the model\n",
    "prediction= cls.predict(X)\n",
    "plt.scatter(X, Y)\n",
    "plt.xlabel('SAT', fontsize = 20)\n",
    "plt.ylabel('GPA', fontsize = 20)\n",
    "\n",
    "plt.plot(X, prediction, color='red', linewidth = 3)\n",
    "plt.show()\n",
    "print('Co-efficient of linear regression',cls.coef_)\n",
    "\n",
    "print('Intercept of linear regression model',cls.intercept_)\n",
    "\n",
    "print('Mean Square Error', metrics.mean_squared_error(Y, prediction))\n",
    "\n",
    "#Predict your GPA based on your SAT Score\n",
    "STA_Score=int(input('Enter your SAT score: '))\n",
    "x_test=np.array([STA_Score])\n",
    "x_test=np.expand_dims(x_test, axis=1)\n",
    "y_test=cls.predict(x_test)\n",
    "print('Your predicted GPA is ' + str(float(y_test)))"
   ]
  }
 ],
 "metadata": {
  "language_info": {
   "name": "python"
  }
 },
 "nbformat": 4,
 "nbformat_minor": 5
}
