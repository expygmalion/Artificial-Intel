def factorial_list(a, b, c):
    def calculate_factorial(n):
        if n < 0:
            raise ValueError("Factorial of negative numbers is not defined.")
        result = 1
        for i in range(2, n + 1):
            result *= i
        return result

    my_list = [a, b, c]
    factorials = []
    print("original list= {}".format(my_list))
    
    for num in my_list:
        if isinstance(num, int) and num >= 0:
            factorial = calculate_factorial(num)
            factorials.append(factorial)
        else:
            raise ValueError("All inputs must be non-negative integers.")
            
    print("factorial list= {}".format(factorials))

factorial_list(1,2,3)